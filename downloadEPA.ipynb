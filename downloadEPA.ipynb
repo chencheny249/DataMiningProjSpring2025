{
 "cells": [
  {
   "cell_type": "code",
   "execution_count": null,
   "metadata": {},
   "outputs": [
    {
     "name": "stdout",
     "output_type": "stream",
     "text": [
      "Download started...\n",
      "Download and extraction completed. Files saved in C:/Users/chenc/Downloads/ucmr_data\n",
      "C:\\Users\\chenc\\AppData\\Local\\Programs\\Microsoft VS Code\n",
      "Download started...\n",
      "Download and extraction completed. Files saved in C:/Users/chenc/Downloads/ucmr_data\n",
      "C:\\Users\\chenc\\AppData\\Local\\Programs\\Microsoft VS Code\n",
      "Download started...\n",
      "Download and extraction completed. Files saved in C:/Users/chenc/Downloads/ucmr_data\n",
      "C:\\Users\\chenc\\AppData\\Local\\Programs\\Microsoft VS Code\n"
     ]
    }
   ],
   "source": [
    "#Getting zip files from EPA website\n",
    "\n",
    "import requests\n",
    "import zipfile\n",
    "import io\n",
    "import os\n",
    "import pandas as pd\n",
    "\n",
    "# Target directory\n",
    "directory ='C:/Users/chenc/Downloads/ucmr_data' \n",
    "\n",
    "def get_epa_data(url, directory):\n",
    "    # Send a GET request to the URL\n",
    "    response = requests.get(url)\n",
    "\n",
    "    # Check if the request was successful (status code 200)\n",
    "    if response.status_code == 200:\n",
    "        print('Download started...')\n",
    "\n",
    "        # Open the zip file from the response content\n",
    "        with zipfile.ZipFile(io.BytesIO(response.content)) as zip_ref:\n",
    "            # Extract all the contents of the zip file into the custom directory\n",
    "            zip_ref.extractall(directory)\n",
    "\n",
    "        print(f'Download and extraction completed. Files saved in {directory}')\n",
    "    else:\n",
    "        print(f'Failed to download data. HTTP status code: {response.status_code}')\n",
    "    print(os.getcwd())\n",
    "\n",
    "# URL for the ZIP file \n",
    "urls = ['https://www.epa.gov/system/files/other-files/2023-08/ucmr5-occurrence-data.zip',\n",
    "        'https://www.epa.gov/system/files/other-files/2024-04/ucmr4-occurrence-data.zip',\n",
    "        'https://www.epa.gov/system/files/other-files/2024-04/ucmr3-occurrence-data.zip']\n",
    "\n",
    "\n",
    "for link in urls:\n",
    "    get_epa_data(link, directory)\n"
   ]
  }
 ],
 "metadata": {
  "kernelspec": {
   "display_name": "pytest",
   "language": "python",
   "name": "python3"
  },
  "language_info": {
   "codemirror_mode": {
    "name": "ipython",
    "version": 3
   },
   "file_extension": ".py",
   "mimetype": "text/x-python",
   "name": "python",
   "nbconvert_exporter": "python",
   "pygments_lexer": "ipython3",
   "version": "3.12.8"
  }
 },
 "nbformat": 4,
 "nbformat_minor": 2
}
