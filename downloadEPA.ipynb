{
 "cells": [
  {
   "cell_type": "code",
   "execution_count": null,
   "metadata": {},
   "outputs": [
    {
     "name": "stdout",
     "output_type": "stream",
     "text": [
      "Download started...\n",
      "Download and extraction completed. Files saved in C:/Users/chenc/Downloads/ucmr5_data\n",
      "C:\\Users\\chenc\\AppData\\Local\\Programs\\Microsoft VS Code\n"
     ]
    }
   ],
   "source": [
    "#test\n",
    "\n",
    "import requests\n",
    "import zipfile\n",
    "import io\n",
    "import os\n",
    "\n",
    "\n",
    "# URL for the ZIP file containing the data (adjust this to the actual URL of the file you want to download)\n",
    "url = 'https://www.epa.gov/system/files/other-files/2023-08/ucmr5-occurrence-data.zip' \n",
    "\n",
    "# Custom directory where you want to extract the files\n",
    "custom_directory ='C:/Users/chenc/Downloads/ucmr5_data' \n",
    "\n",
    "# Send a GET request to the URL\n",
    "response = requests.get(url)\n",
    "\n",
    "# Check if the request was successful (status code 200)\n",
    "if response.status_code == 200:\n",
    "    print('Download started...')\n",
    "\n",
    "    # Open the zip file from the response content\n",
    "    with zipfile.ZipFile(io.BytesIO(response.content)) as zip_ref:\n",
    "        # Extract all the contents of the zip file into the custom directory\n",
    "        zip_ref.extractall(custom_directory)\n",
    "\n",
    "    print(f'Download and extraction completed. Files saved in {custom_directory}')\n",
    "else:\n",
    "    print(f'Failed to download data. HTTP status code: {response.status_code}')\n",
    "\n",
    "print(os.getcwd())"
   ]
  },
  {
   "cell_type": "code",
   "execution_count": null,
   "metadata": {},
   "outputs": [],
   "source": [
    "#import API from census"
   ]
  }
 ],
 "metadata": {
  "kernelspec": {
   "display_name": "pytest",
   "language": "python",
   "name": "python3"
  },
  "language_info": {
   "codemirror_mode": {
    "name": "ipython",
    "version": 3
   },
   "file_extension": ".py",
   "mimetype": "text/x-python",
   "name": "python",
   "nbconvert_exporter": "python",
   "pygments_lexer": "ipython3",
   "version": "3.12.8"
  }
 },
 "nbformat": 4,
 "nbformat_minor": 2
}
